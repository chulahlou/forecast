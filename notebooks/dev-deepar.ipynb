{
 "cells": [
  {
   "cell_type": "code",
   "execution_count": null,
   "id": "28ec1ee5-b7e4-4a9c-828a-096e4b26af53",
   "metadata": {},
   "outputs": [],
   "source": [
    "from gluonts.dataset.repository.datasets import get_dataset, dataset_recipes\n",
    "from gluonts.dataset.util import to_pandas"
   ]
  },
  {
   "cell_type": "code",
   "execution_count": null,
   "id": "9cdf6599-327f-4e99-838f-e9fa3f224ed8",
   "metadata": {},
   "outputs": [],
   "source": [
    "import warnings\n",
    "warnings.filterwarnings(\"ignore\")\n",
    "\n",
    "from typing import List, Optional, Callable, Iterable\n",
    "from itertools import islice\n",
    "\n",
    "import numpy as np\n",
    "import pandas as pd\n",
    "from matplotlib import pyplot as plt\n",
    "import matplotlib.dates as mdates"
   ]
  },
  {
   "cell_type": "code",
   "execution_count": null,
   "id": "42996f57-30d8-4b13-8147-d7fec3b183ca",
   "metadata": {},
   "outputs": [],
   "source": [
    "print(f\"Available datasets:  \\n\" + \"\\n\".join(dataset_recipes.keys()))"
   ]
  },
  {
   "cell_type": "code",
   "execution_count": null,
   "id": "4fab4bfd-dc2d-4df4-a694-8cd37bee45b5",
   "metadata": {},
   "outputs": [],
   "source": [
    "dataset = get_dataset(\"electricity\", regenerate=False)"
   ]
  },
  {
   "cell_type": "code",
   "execution_count": null,
   "id": "62ef1a77-f9b4-4259-919d-c52449316406",
   "metadata": {},
   "outputs": [],
   "source": [
    "date_formater = mdates.DateFormatter('%Y')\n",
    "\n",
    "fig = plt.figure(figsize=(12,8))\n",
    "for idx, entry in enumerate(islice(dataset.train, 9)):\n",
    "    ax = plt.subplot(3, 3, idx+1)\n",
    "    t = pd.date_range(start=entry[\"start\"], periods=len(entry[\"target\"]), freq=entry[\"start\"].freq)\n",
    "    plt.plot(t, entry[\"target\"])\n",
    "    plt.xticks(pd.date_range(start=pd.to_datetime(\"2011-12-31\"), periods=3, freq=\"AS\"))\n",
    "    ax.xaxis.set_major_formatter(date_formater)"
   ]
  },
  {
   "cell_type": "code",
   "execution_count": null,
   "id": "85c1163c-1c53-4be0-9a85-a981049d6eff",
   "metadata": {},
   "outputs": [],
   "source": [
    "from gluonts.model.deepar import DeepAREstimator\n",
    "from gluonts.mx.trainer import Trainer"
   ]
  },
  {
   "cell_type": "code",
   "execution_count": null,
   "id": "1c7e671c-f854-4317-8525-bd7558a7b4bd",
   "metadata": {},
   "outputs": [],
   "source": [
    "context_length = 2 * 7 * 24"
   ]
  },
  {
   "cell_type": "code",
   "execution_count": null,
   "id": "82996212-9617-43ec-af98-82224e0654a0",
   "metadata": {},
   "outputs": [],
   "source": [
    "estimator = DeepAREstimator(\n",
    "    freq=dataset.metadata.freq,\n",
    "    prediction_length=dataset.metadata.prediction_length,\n",
    "    context_length=context_length,\n",
    "    trainer=Trainer(\n",
    "        ctx=\"cpu\",\n",
    "        epochs=10,\n",
    "        learning_rate=1e-3,\n",
    "        num_batches_per_epoch=100\n",
    "    )\n",
    ")"
   ]
  },
  {
   "cell_type": "code",
   "execution_count": null,
   "id": "700bf158-8708-4838-b5a2-cc1e0139dbf0",
   "metadata": {},
   "outputs": [],
   "source": [
    "predictor = estimator.train(dataset.train)"
   ]
  },
  {
   "cell_type": "code",
   "execution_count": null,
   "id": "e727165c-9a93-402f-b495-d6c1ed029a8d",
   "metadata": {},
   "outputs": [],
   "source": [
    "from gluonts.dataset.field_names import FieldName\n",
    "from gluonts.transform import AddObservedValuesIndicator, InstanceSplitter, ExpectedNumInstanceSampler, TestSplitSampler\n",
    "from gluonts.evaluation import make_evaluation_predictions, Evaluator"
   ]
  },
  {
   "cell_type": "code",
   "execution_count": null,
   "id": "4f7ce5d4-b1c9-4f0f-b301-b53b4c76ce64",
   "metadata": {},
   "outputs": [],
   "source": [
    "mask_unobserved = AddObservedValuesIndicator(\n",
    "    target_field=FieldName.TARGET,\n",
    "    output_field=FieldName.OBSERVED_VALUES,\n",
    ")"
   ]
  },
  {
   "cell_type": "code",
   "execution_count": null,
   "id": "042b1879-1bf3-4381-856c-7ef3f423c434",
   "metadata": {},
   "outputs": [],
   "source": [
    "prediction_splitter = InstanceSplitter(\n",
    "    target_field=FieldName.TARGET,\n",
    "    is_pad_field=FieldName.IS_PAD,\n",
    "    start_field=FieldName.START,\n",
    "    forecast_start_field=FieldName.FORECAST_START,\n",
    "    instance_sampler=TestSplitSampler(),\n",
    "    past_length=context_length,\n",
    "    future_length=dataset.metadata.prediction_length,\n",
    "    time_series_fields=[FieldName.OBSERVED_VALUES],\n",
    ")"
   ]
  },
  {
   "cell_type": "code",
   "execution_count": null,
   "id": "bb740052-9258-4760-92c6-4ab18580c60b",
   "metadata": {},
   "outputs": [],
   "source": [
    "forecast_it, ts_it = make_evaluation_predictions(\n",
    "    dataset=dataset.test, \n",
    "    predictor=predictor\n",
    ")\n",
    "\n",
    "forecasts_pytorch = [f for f in forecast_it]\n",
    "tss_pytorch = list(ts_it)"
   ]
  },
  {
   "cell_type": "code",
   "execution_count": null,
   "id": "e50d5b73-0710-403a-8f86-63d1762aeb23",
   "metadata": {},
   "outputs": [],
   "source": [
    "plt.figure(figsize=(20, 15))\n",
    "date_formater = mdates.DateFormatter('%b, %d')\n",
    "plt.rcParams.update({'font.size': 15})\n",
    "\n",
    "for idx, (forecast, ts) in islice(enumerate(zip(forecasts_pytorch, tss_pytorch)), 9):\n",
    "    ax = plt.subplot(3, 3, idx+1)\n",
    "\n",
    "    plt.plot(ts[-5 * dataset.metadata.prediction_length:], label=\"target\")\n",
    "    forecast.plot()\n",
    "    plt.xticks(rotation=60)\n",
    "    ax.xaxis.set_major_formatter(date_formater)\n",
    "\n",
    "plt.gcf().tight_layout()\n",
    "plt.legend()\n",
    "plt.show()"
   ]
  },
  {
   "cell_type": "code",
   "execution_count": null,
   "id": "605b268a-5625-4d25-a202-088e76e999e7",
   "metadata": {},
   "outputs": [],
   "source": [
    "evaluator = Evaluator(quantiles=[0.1, 0.5, 0.9])"
   ]
  },
  {
   "cell_type": "code",
   "execution_count": null,
   "id": "0664d422-8510-465d-9813-07c3cd2f9269",
   "metadata": {},
   "outputs": [],
   "source": [
    "metrics_pytorch, _ = evaluator(iter(tss_pytorch), iter(forecasts_pytorch), num_series=len(dataset.test))\n",
    "pd.DataFrame.from_records(metrics_pytorch, index=[\"DeepAR\"]).transpose()"
   ]
  },
  {
   "cell_type": "code",
   "execution_count": null,
   "id": "d2e76001-cb9c-438c-b839-50bc98ebf729",
   "metadata": {},
   "outputs": [],
   "source": []
  }
 ],
 "metadata": {
  "kernelspec": {
   "display_name": "forcasting",
   "language": "python",
   "name": "forcasting"
  },
  "language_info": {
   "codemirror_mode": {
    "name": "ipython",
    "version": 3
   },
   "file_extension": ".py",
   "mimetype": "text/x-python",
   "name": "python",
   "nbconvert_exporter": "python",
   "pygments_lexer": "ipython3",
   "version": "3.7.11"
  }
 },
 "nbformat": 4,
 "nbformat_minor": 5
}
