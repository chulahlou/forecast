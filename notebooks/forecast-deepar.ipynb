{
 "cells": [
  {
   "cell_type": "code",
   "execution_count": null,
   "id": "3e8cdda9-91e0-4f28-947d-98297c27dcce",
   "metadata": {},
   "outputs": [],
   "source": [
    "from forecast import Forecast"
   ]
  },
  {
   "cell_type": "code",
   "execution_count": null,
   "id": "ba76c8a6-18e4-47e5-bc5d-1cc05142a452",
   "metadata": {},
   "outputs": [],
   "source": [
    "f = Forecast(dataset_name=\"electricity\")"
   ]
  },
  {
   "cell_type": "code",
   "execution_count": null,
   "id": "d4056c97-34cf-4fe3-9a41-490bebb6ac82",
   "metadata": {},
   "outputs": [],
   "source": [
    "f.build_estimator(epochs=1, learning_rate=1e-3, num_batches_per_epoch=100, context_length=336)"
   ]
  },
  {
   "cell_type": "code",
   "execution_count": null,
   "id": "c78942fc-085a-4f3c-84cf-607b08f39479",
   "metadata": {},
   "outputs": [],
   "source": [
    "f.train()"
   ]
  },
  {
   "cell_type": "code",
   "execution_count": null,
   "id": "661b5384-3b10-4a5a-81da-867516141eaf",
   "metadata": {},
   "outputs": [],
   "source": [
    "forecast, tss, metrics = f.eval()"
   ]
  },
  {
   "cell_type": "code",
   "execution_count": null,
   "id": "46189826-58b2-4ceb-b0fd-8d87bc5fe0d7",
   "metadata": {},
   "outputs": [],
   "source": [
    "metrics"
   ]
  },
  {
   "cell_type": "code",
   "execution_count": null,
   "id": "354b4155-4aad-4047-a634-c3c6f6282f43",
   "metadata": {},
   "outputs": [],
   "source": [
    "f.visualize_forecast(forecast=forecast, tss=tss)"
   ]
  },
  {
   "cell_type": "code",
   "execution_count": null,
   "id": "a6df040b-50ab-4ad1-a009-8960de4dec1c",
   "metadata": {},
   "outputs": [],
   "source": []
  }
 ],
 "metadata": {
  "kernelspec": {
   "display_name": "forcasting",
   "language": "python",
   "name": "forcasting"
  },
  "language_info": {
   "codemirror_mode": {
    "name": "ipython",
    "version": 3
   },
   "file_extension": ".py",
   "mimetype": "text/x-python",
   "name": "python",
   "nbconvert_exporter": "python",
   "pygments_lexer": "ipython3",
   "version": "3.7.11"
  }
 },
 "nbformat": 4,
 "nbformat_minor": 5
}
