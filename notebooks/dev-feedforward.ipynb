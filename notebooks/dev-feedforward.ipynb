{
 "cells": [
  {
   "cell_type": "code",
   "execution_count": null,
   "id": "15b10e44-8378-4f23-846d-904f219443ed",
   "metadata": {},
   "outputs": [],
   "source": [
    "from gluonts.dataset.repository.datasets import get_dataset, dataset_recipes\n",
    "from gluonts.dataset.util import to_pandas"
   ]
  },
  {
   "cell_type": "code",
   "execution_count": null,
   "id": "96e54f57-df9f-4fad-aabe-4fb074082782",
   "metadata": {},
   "outputs": [],
   "source": [
    "import warnings\n",
    "warnings.filterwarnings(\"ignore\")\n",
    "\n",
    "from typing import List, Optional, Callable, Iterable\n",
    "from itertools import islice\n",
    "\n",
    "import numpy as np\n",
    "import pandas as pd\n",
    "from matplotlib import pyplot as plt\n",
    "import matplotlib.dates as mdates"
   ]
  },
  {
   "cell_type": "code",
   "execution_count": null,
   "id": "7a974272-6e88-4207-9f33-860ab4b51ab3",
   "metadata": {},
   "outputs": [],
   "source": [
    "print(f\"Available datasets:  \\n\" + \"\\n\".join(dataset_recipes.keys()))"
   ]
  },
  {
   "cell_type": "code",
   "execution_count": null,
   "id": "033f45e7-8f81-4e43-9200-991af7a1dd35",
   "metadata": {},
   "outputs": [],
   "source": [
    "dataset = get_dataset(\"electricity\", regenerate=False)"
   ]
  },
  {
   "cell_type": "code",
   "execution_count": null,
   "id": "f354ca87-40e9-45d7-ae48-546a1b736cfa",
   "metadata": {},
   "outputs": [],
   "source": [
    "date_formater = mdates.DateFormatter('%Y')\n",
    "\n",
    "fig = plt.figure(figsize=(12,8))\n",
    "for idx, entry in enumerate(islice(dataset.train, 9)):\n",
    "    ax = plt.subplot(3, 3, idx+1)\n",
    "    t = pd.date_range(start=entry[\"start\"], periods=len(entry[\"target\"]), freq=entry[\"start\"].freq)\n",
    "    plt.plot(t, entry[\"target\"])\n",
    "    plt.xticks(pd.date_range(start=pd.to_datetime(\"2011-12-31\"), periods=3, freq=\"AS\"))\n",
    "    ax.xaxis.set_major_formatter(date_formater)"
   ]
  },
  {
   "cell_type": "code",
   "execution_count": null,
   "id": "dc0473ed-65df-430f-83f5-278120c1ffa1",
   "metadata": {},
   "outputs": [],
   "source": [
    "from gluonts.model.deepar import DeepAREstimator"
   ]
  },
  {
   "cell_type": "code",
   "execution_count": null,
   "id": "a866a1ea-6e17-4359-a5ae-5b810567c3c4",
   "metadata": {},
   "outputs": [],
   "source": [
    "import torch\n",
    "import torch.nn as nn"
   ]
  },
  {
   "cell_type": "code",
   "execution_count": null,
   "id": "2a057138-8056-4b8c-a892-e6047aa841b6",
   "metadata": {},
   "outputs": [],
   "source": [
    "from gluonts.torch.model.predictor import PyTorchPredictor\n",
    "from gluonts.torch.modules.distribution_output import StudentTOutput\n",
    "from gluonts.model.forecast_generator import DistributionForecastGenerator"
   ]
  },
  {
   "cell_type": "code",
   "execution_count": null,
   "id": "0a870f44-559c-459d-b949-b5c533b90db1",
   "metadata": {},
   "outputs": [],
   "source": [
    "def mean_abs_scaling(context, min_scale=1e-5):\n",
    "    return context.abs().mean(1).clamp(min_scale, None).unsqueeze(1)"
   ]
  },
  {
   "cell_type": "code",
   "execution_count": null,
   "id": "16e21c0d-98bc-43be-9aa4-97ff81edfcd5",
   "metadata": {},
   "outputs": [],
   "source": [
    "class FeedForwardNetwork(nn.Module):\n",
    "    def __init__(\n",
    "        self,\n",
    "        freq: str,\n",
    "        prediction_length: int,\n",
    "        context_length: int,\n",
    "        hidden_dimensions: List[int],\n",
    "        distr_output = StudentTOutput(),\n",
    "        batch_norm: bool=False,\n",
    "        scaling: Callable=mean_abs_scaling,\n",
    "    ) -> None:\n",
    "        super().__init__()\n",
    "\n",
    "        assert prediction_length > 0\n",
    "        assert context_length > 0\n",
    "        assert len(hidden_dimensions) > 0\n",
    "\n",
    "        self.freq = freq\n",
    "        self.prediction_length = prediction_length\n",
    "        self.context_length = context_length\n",
    "        self.hidden_dimensions = hidden_dimensions\n",
    "        self.distr_output = distr_output\n",
    "        self.batch_norm = batch_norm\n",
    "        self.scaling = scaling\n",
    "\n",
    "        dimensions = [context_length] + hidden_dimensions[:-1]\n",
    "\n",
    "        modules = []\n",
    "        for in_size, out_size in zip(dimensions[:-1], dimensions[1:]):\n",
    "            modules += [self.__make_lin(in_size, out_size), nn.ReLU()]\n",
    "            if batch_norm:\n",
    "                modules.append(nn.BatchNorm1d(out_size))\n",
    "        modules.append(self.__make_lin(dimensions[-1], prediction_length * hidden_dimensions[-1]))\n",
    "\n",
    "        self.nn = nn.Sequential(*modules)\n",
    "        self.args_proj = self.distr_output.get_args_proj(hidden_dimensions[-1])\n",
    "\n",
    "    @staticmethod\n",
    "    def __make_lin(dim_in, dim_out):\n",
    "        lin = nn.Linear(dim_in, dim_out)\n",
    "        torch.nn.init.uniform_(lin.weight, -0.07, 0.07)\n",
    "        torch.nn.init.zeros_(lin.bias)\n",
    "        return lin\n",
    "\n",
    "    def forward(self, context):\n",
    "        scale = self.scaling(context)\n",
    "        scaled_context = context / scale\n",
    "        nn_out = self.nn(scaled_context)\n",
    "        nn_out_reshaped = nn_out.reshape(-1, self.prediction_length, self.hidden_dimensions[-1])\n",
    "        distr_args = self.args_proj(nn_out_reshaped)\n",
    "        return distr_args, torch.zeros_like(scale), scale\n",
    "\n",
    "    def get_predictor(self, input_transform, batch_size=32, device=None):\n",
    "        return PyTorchPredictor(\n",
    "            prediction_length=self.prediction_length,\n",
    "            freq=self.freq,\n",
    "            input_names=[\"past_target\"],\n",
    "            prediction_net=self,\n",
    "            batch_size=batch_size,\n",
    "            input_transform=input_transform,\n",
    "            forecast_generator=DistributionForecastGenerator(self.distr_output),\n",
    "            device=None,\n",
    "        )"
   ]
  },
  {
   "cell_type": "code",
   "execution_count": null,
   "id": "76d24dc2-1d54-4ba4-9014-6c7d706a7943",
   "metadata": {},
   "outputs": [],
   "source": [
    "import pytorch_lightning as pl"
   ]
  },
  {
   "cell_type": "code",
   "execution_count": null,
   "id": "4cd13ecc-bdd9-494d-ae7e-191dad4ccd1d",
   "metadata": {},
   "outputs": [],
   "source": [
    "class LightningFeedForwardNetwork(FeedForwardNetwork, pl.LightningModule):\n",
    "    def __init__(self, *args, **kwargs):\n",
    "        super().__init__(*args, **kwargs)\n",
    "\n",
    "    def training_step(self, batch, batch_idx):\n",
    "        context = batch[\"past_target\"]\n",
    "        target = batch[\"future_target\"]\n",
    "\n",
    "        assert context.shape[-1] == self.context_length\n",
    "        assert target.shape[-1] == self.prediction_length\n",
    "\n",
    "        distr_args, loc, scale = self(context)\n",
    "        distr = self.distr_output.distribution(distr_args, loc, scale)\n",
    "        loss = -distr.log_prob(target)\n",
    "\n",
    "        return loss.mean()\n",
    "\n",
    "    def configure_optimizers(self):\n",
    "        optimizer = torch.optim.Adam(self.parameters(), lr=1e-3)\n",
    "        return optimizer"
   ]
  },
  {
   "cell_type": "code",
   "execution_count": null,
   "id": "1b0c51cb-fec3-4462-9630-0a7ea674313c",
   "metadata": {},
   "outputs": [],
   "source": [
    "freq = \"1H\"\n",
    "context_length = 2 * 7 * 24\n",
    "prediction_length = dataset.metadata.prediction_length\n",
    "hidden_dimensions = [96, 48]"
   ]
  },
  {
   "cell_type": "code",
   "execution_count": null,
   "id": "70b5d9eb-e6ff-40bf-be32-11c4df5ea30b",
   "metadata": {},
   "outputs": [],
   "source": [
    "net = LightningFeedForwardNetwork(\n",
    "    freq=freq,\n",
    "    prediction_length=prediction_length,\n",
    "    context_length=context_length,\n",
    "    hidden_dimensions=hidden_dimensions,\n",
    "    distr_output=StudentTOutput(),\n",
    ")"
   ]
  },
  {
   "cell_type": "code",
   "execution_count": null,
   "id": "6e52398c-6f81-4e51-8fb7-46ea9e3d076e",
   "metadata": {},
   "outputs": [],
   "source": [
    "sum(np.prod(p.shape) for p in net.parameters())"
   ]
  },
  {
   "cell_type": "code",
   "execution_count": null,
   "id": "064fa477-48c2-4228-9bad-63b1fbf0e111",
   "metadata": {},
   "outputs": [],
   "source": [
    "for p in net.parameters():\n",
    "    print(p.shape)"
   ]
  },
  {
   "cell_type": "code",
   "execution_count": null,
   "id": "574bac1c-9886-4717-89e4-5bb59d5bcb24",
   "metadata": {},
   "outputs": [],
   "source": [
    "from gluonts.dataset.field_names import FieldName\n",
    "from gluonts.transform import AddObservedValuesIndicator, InstanceSplitter, ExpectedNumInstanceSampler, TestSplitSampler\n"
   ]
  },
  {
   "cell_type": "code",
   "execution_count": null,
   "id": "618c8b56-cdf8-4a15-a55f-54d894591bc4",
   "metadata": {},
   "outputs": [],
   "source": [
    "mask_unobserved = AddObservedValuesIndicator(\n",
    "    target_field=FieldName.TARGET,\n",
    "    output_field=FieldName.OBSERVED_VALUES,\n",
    ")"
   ]
  },
  {
   "cell_type": "code",
   "execution_count": null,
   "id": "6fd94b52-b096-4464-86e6-2463c45906a0",
   "metadata": {},
   "outputs": [],
   "source": [
    "training_splitter = InstanceSplitter(\n",
    "    target_field=FieldName.TARGET,\n",
    "    is_pad_field=FieldName.IS_PAD,\n",
    "    start_field=FieldName.START,\n",
    "    forecast_start_field=FieldName.FORECAST_START,\n",
    "    instance_sampler=ExpectedNumInstanceSampler(\n",
    "        num_instances=1,\n",
    "        min_future=prediction_length,\n",
    "    ),\n",
    "    past_length=context_length,\n",
    "    future_length=prediction_length,\n",
    "    time_series_fields=[FieldName.OBSERVED_VALUES],\n",
    ")"
   ]
  },
  {
   "cell_type": "code",
   "execution_count": null,
   "id": "b0bb3f10-6b1d-464a-9861-63f5343a16d8",
   "metadata": {},
   "outputs": [],
   "source": [
    "from gluonts.dataset.loader import TrainDataLoader\n",
    "from gluonts.itertools import Cached\n",
    "from gluonts.torch.batchify import batchify"
   ]
  },
  {
   "cell_type": "code",
   "execution_count": null,
   "id": "c4c633e9-9f72-4315-8540-e3bd84e5f866",
   "metadata": {},
   "outputs": [],
   "source": [
    "batch_size = 32\n",
    "num_batches_per_epoch = 50"
   ]
  },
  {
   "cell_type": "code",
   "execution_count": null,
   "id": "da8d0349-0ec4-4ec4-bd03-95d497bf18ef",
   "metadata": {},
   "outputs": [],
   "source": [
    "data_loader = TrainDataLoader(\n",
    "    # We cache the dataset, to make training faster\n",
    "    Cached(dataset.train),\n",
    "    batch_size=batch_size,\n",
    "    stack_fn=batchify,\n",
    "    transform=mask_unobserved + training_splitter,\n",
    "    num_batches_per_epoch=num_batches_per_epoch,\n",
    ")"
   ]
  },
  {
   "cell_type": "code",
   "execution_count": null,
   "id": "e76e5250-6e64-49ff-a588-56e71db40167",
   "metadata": {},
   "outputs": [],
   "source": [
    "trainer.max_epochs"
   ]
  },
  {
   "cell_type": "code",
   "execution_count": null,
   "id": "97ab45d1-1d78-4c29-bfb3-0e8806221ce0",
   "metadata": {},
   "outputs": [],
   "source": [
    "trainer = pl.Trainer(max_epochs=10, gpus=-1 if torch.cuda.is_available() else None)\n",
    "trainer.fit(net, train_dataloader=data_loader)"
   ]
  },
  {
   "cell_type": "code",
   "execution_count": null,
   "id": "5620c2f1-85e1-426d-9a0b-890ad6b4b9a5",
   "metadata": {},
   "outputs": [],
   "source": [
    "prediction_splitter = InstanceSplitter(\n",
    "    target_field=FieldName.TARGET,\n",
    "    is_pad_field=FieldName.IS_PAD,\n",
    "    start_field=FieldName.START,\n",
    "    forecast_start_field=FieldName.FORECAST_START,\n",
    "    instance_sampler=TestSplitSampler(),\n",
    "    past_length=context_length,\n",
    "    future_length=prediction_length,\n",
    "    time_series_fields=[FieldName.OBSERVED_VALUES],\n",
    ")"
   ]
  },
  {
   "cell_type": "code",
   "execution_count": null,
   "id": "5ce55e6a-d1b6-4e04-aac5-03a34a68e8bf",
   "metadata": {},
   "outputs": [],
   "source": [
    "predictor_pytorch = net.get_predictor(mask_unobserved + prediction_splitter)"
   ]
  },
  {
   "cell_type": "code",
   "execution_count": null,
   "id": "fda1f9d4-0dc5-4b78-bd70-70097fa0f34e",
   "metadata": {},
   "outputs": [],
   "source": [
    "from gluonts.evaluation import make_evaluation_predictions, Evaluator"
   ]
  },
  {
   "cell_type": "code",
   "execution_count": null,
   "id": "44b8229d-9ab2-465f-b82f-2d033fed4130",
   "metadata": {},
   "outputs": [],
   "source": [
    "forecast_it, ts_it = make_evaluation_predictions(\n",
    "    dataset=dataset.test, predictor=predictor_pytorch\n",
    ")\n",
    "\n",
    "forecasts_pytorch = list(f.to_sample_forecast() for f in forecast_it)\n",
    "tss_pytorch = list(ts_it)"
   ]
  },
  {
   "cell_type": "code",
   "execution_count": null,
   "id": "0ba7468c-83e5-47bd-9e41-2f7c2c1f2c00",
   "metadata": {},
   "outputs": [],
   "source": [
    "plt.figure(figsize=(20, 15))\n",
    "date_formater = mdates.DateFormatter('%b, %d')\n",
    "plt.rcParams.update({'font.size': 15})\n",
    "\n",
    "for idx, (forecast, ts) in islice(enumerate(zip(forecasts_pytorch, tss_pytorch)), 9):\n",
    "    ax = plt.subplot(3, 3, idx+1)\n",
    "\n",
    "    plt.plot(ts[-5 * prediction_length:], label=\"target\")\n",
    "    forecast.plot()\n",
    "    plt.xticks(rotation=60)\n",
    "    ax.xaxis.set_major_formatter(date_formater)\n",
    "\n",
    "plt.gcf().tight_layout()\n",
    "plt.legend()\n",
    "plt.show()"
   ]
  },
  {
   "cell_type": "code",
   "execution_count": null,
   "id": "07dbc757-2465-4410-98d6-d0f965bd7be8",
   "metadata": {},
   "outputs": [],
   "source": [
    "evaluator = Evaluator(quantiles=[0.1, 0.5, 0.9])"
   ]
  },
  {
   "cell_type": "code",
   "execution_count": null,
   "id": "21d72ea7-a38a-432e-8d48-af1e256ffaf1",
   "metadata": {},
   "outputs": [],
   "source": [
    "metrics_pytorch, _ = evaluator(iter(tss_pytorch), iter(forecasts_pytorch), num_series=len(dataset.test))\n",
    "pd.DataFrame.from_records(metrics_pytorch, index=[\"FeedForward\"]).transpose()"
   ]
  },
  {
   "cell_type": "code",
   "execution_count": null,
   "id": "d715eb2d-e5ec-4857-84f4-f1e75d2eacf2",
   "metadata": {},
   "outputs": [],
   "source": []
  }
 ],
 "metadata": {
  "kernelspec": {
   "display_name": "forcasting",
   "language": "python",
   "name": "forcasting"
  },
  "language_info": {
   "codemirror_mode": {
    "name": "ipython",
    "version": 3
   },
   "file_extension": ".py",
   "mimetype": "text/x-python",
   "name": "python",
   "nbconvert_exporter": "python",
   "pygments_lexer": "ipython3",
   "version": "3.7.11"
  }
 },
 "nbformat": 4,
 "nbformat_minor": 5
}
